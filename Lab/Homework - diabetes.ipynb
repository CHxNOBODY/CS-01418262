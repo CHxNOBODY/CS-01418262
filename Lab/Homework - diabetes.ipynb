{
 "cells": [
  {
   "cell_type": "code",
   "execution_count": 2,
   "id": "dbbdc8f0",
   "metadata": {},
   "outputs": [],
   "source": [
    "# ภูรี นาสิงคาร 6710451178 หมู่ 200\n",
    "# อชิระ จันทร์สว่าง 6710451496 หมู่ 200"
   ]
  },
  {
   "cell_type": "code",
   "execution_count": null,
   "id": "73d232c6",
   "metadata": {},
   "outputs": [],
   "source": [
    "# https://www.kaggle.com/datasets/uciml/pima-indians-diabetes-database\n",
    "# แหล่งข้อมูลโดย National Institute of Diabetes and Digestive and Kidney Diseases (NIDDK)"
   ]
  },
  {
   "cell_type": "code",
   "execution_count": null,
   "id": "773f0d2a",
   "metadata": {},
   "outputs": [],
   "source": [
    "# รูปแบบการจัดเก็บจะเป็นไฟล์ csv โดยใช้ format เป็นไฟล์ jpg\n",
    "# จำนวนข้อมูลมีทั้งหมด 767 sample"
   ]
  },
  {
   "cell_type": "code",
   "execution_count": null,
   "id": "f082c9e4",
   "metadata": {},
   "outputs": [],
   "source": [
    "# สิ่งที่ต้องการทำนาย คือ ความเสี่ยงการเป็นเบาหวาน"
   ]
  },
  {
   "cell_type": "code",
   "execution_count": null,
   "id": "3cfd3396",
   "metadata": {},
   "outputs": [],
   "source": [
    "# สิ่งที่ใช้ในการทำนาย\n",
    "\n",
    "# Pregnancies – จำนวนครั้งที่ตั้งครรภ์\n",
    "# Glucose – ค่าระดับน้ำตาลในเลือด\n",
    "# BloodPressure – ความดันโลหิต \n",
    "# SkinThickness – ความหนาของผิวหนัง \n",
    "# Insulin – ระดับอินซูลินในเลือด \n",
    "# BMI (Body Mass Index) – ดัชนีมวลกาย\n",
    "# DiabetesPedigreeFunction – ค่าความเสี่ยงของเบาหวานทางพันธุกรรม\n",
    "# Age – อายุของผู้ป่วย"
   ]
  },
  {
   "cell_type": "code",
   "execution_count": null,
   "id": "8650d99f",
   "metadata": {},
   "outputs": [],
   "source": [
    "# สิ่งที่ต้องเตรียมมีดังนี้\n",
    "# 1. แก้ไขบางค่าที่ไม่สมเหตุสมผลให้แทนด้วยค่าเฉลี่ยกลาง\n",
    "# 2. แยกชุดข้อมูลสำหรับเทรนและทดสอบความแม่นยำ"
   ]
  },
  {
   "cell_type": "code",
   "execution_count": null,
   "id": "0fdf519a",
   "metadata": {},
   "outputs": [],
   "source": [
    "# การมีส่วนร่วมของแต่ล่ะคนในกลุ่ม\n",
    "# ภูรี ทำหน้าที่หาข้อมูล\n",
    "# อชิระ ทำหน้าที่ออกแบบระบบต้นแบบ"
   ]
  }
 ],
 "metadata": {
  "kernelspec": {
   "display_name": "Python 3",
   "language": "python",
   "name": "python3"
  },
  "language_info": {
   "codemirror_mode": {
    "name": "ipython",
    "version": 3
   },
   "file_extension": ".py",
   "mimetype": "text/x-python",
   "name": "python",
   "nbconvert_exporter": "python",
   "pygments_lexer": "ipython3",
   "version": "3.13.5"
  }
 },
 "nbformat": 4,
 "nbformat_minor": 5
}
